{
 "cells": [
  {
   "cell_type": "markdown",
   "id": "f450a3c0",
   "metadata": {},
   "source": [
    "\n",
    "# Coin"
   ]
  },
  {
   "cell_type": "code",
   "execution_count": 1,
   "id": "8731e4b4",
   "metadata": {},
   "outputs": [],
   "source": [
    "import os\n",
    "import warnings\n",
    "\n",
    "warnings.filterwarnings(\"ignore\")\n",
    "\n",
    "\n",
    "import pandas as pd\n",
    "import datetime as dt"
   ]
  },
  {
   "cell_type": "code",
   "execution_count": 2,
   "id": "7aa69d7d",
   "metadata": {},
   "outputs": [],
   "source": [
    "bt = pd.read_csv(\"data/bitc.csv\")\n",
    "et = pd.read_csv(\"data/ethereum.csv\")\n",
    "usd = pd.read_csv(\"data/usdc.csv\")"
   ]
  },
  {
   "cell_type": "code",
   "execution_count": 3,
   "id": "e66b42ed",
   "metadata": {},
   "outputs": [],
   "source": [
    "bt.rename(columns={'timestamp':'Date', 'open':'Open', 'high':'High', 'low':'Low', 'close':'Close', 'volume': 'Volume','marketCap': 'Marketcap'}, inplace=True)\n",
    "et.rename(columns={'timestamp':'Date','open':'Open', 'high':'High', 'low':'Low', 'close':'Close', 'volume': 'Volume','marketCap': 'Marketcap'}, inplace=True)\n",
    "usd.rename(columns={'timestamp':'Date','open':'Open', 'high':'High', 'low':'Low', 'close':'Close', 'volume': 'Volume','marketCap': 'Marketcap'}, inplace=True)"
   ]
  },
  {
   "cell_type": "code",
   "execution_count": 4,
   "id": "25b21dfb",
   "metadata": {},
   "outputs": [],
   "source": [
    "bt['Date'] = pd.to_datetime(bt['Date'])\n",
    "et['Date'] = pd.to_datetime(et['Date'])\n",
    "usd['Date'] = pd.to_datetime(usd['Date'])"
   ]
  },
  {
   "cell_type": "code",
   "execution_count": 5,
   "id": "1d17a642",
   "metadata": {},
   "outputs": [],
   "source": [
    "bt = bt[bt['Date'].between('2021-02-01','2024-04-30')]\n",
    "et = et[et['Date'].between('2021-02-01','2024-04-30')]\n",
    "usd = usd[usd['Date'].between('2021-02-01','2024-04-30')]"
   ]
  },
  {
   "cell_type": "code",
   "execution_count": 6,
   "id": "37a9ff20",
   "metadata": {},
   "outputs": [],
   "source": [
    "bt['Vol/cap'] = bt['Volume'] / bt['Marketcap']\n",
    "et['Vol/cap'] = et['Volume'] / et['Marketcap']\n",
    "usd['Vol/cap'] = usd['Volume'] / usd['Marketcap']"
   ]
  },
  {
   "cell_type": "code",
   "execution_count": 7,
   "id": "b64a0ebf",
   "metadata": {},
   "outputs": [],
   "source": [
    "bt['HL_spread'] = bt['High'] - bt['Low']\n",
    "bt['OC_spread'] = bt['Open'] - bt['Close']\n",
    "\n",
    "et['HL_spread'] = et['High'] - et['Low']\n",
    "et['OC_spread'] = et['Open'] - et['Close']\n",
    "\n",
    "usd['HL_spread'] = usd['High'] - usd['Low']\n",
    "usd['OC_spread'] = usd['Open'] - usd['Close']"
   ]
  },
  {
   "cell_type": "code",
   "execution_count": 8,
   "id": "f6ebf6dd",
   "metadata": {},
   "outputs": [],
   "source": [
    "bt.to_csv('data/bitcoin_price.csv', index=False)\n",
    "et.to_csv('data/ether_price.csv', index=False)\n",
    "usd.to_csv('data/usd_price.csv', index=False)"
   ]
  },
  {
   "cell_type": "code",
   "execution_count": 9,
   "id": "86279ea4",
   "metadata": {},
   "outputs": [],
   "source": [
    "bt = pd.read_csv(\"data/bitcoin_price.csv\")\n",
    "et = pd.read_csv(\"data/ether_price.csv\")\n",
    "usd = pd.read_csv(\"data/usd_price.csv\")"
   ]
  },
  {
   "cell_type": "code",
   "execution_count": 10,
   "id": "c71b46e4",
   "metadata": {},
   "outputs": [],
   "source": [
    "from sklearn.preprocessing import StandardScaler"
   ]
  },
  {
   "cell_type": "code",
   "execution_count": 11,
   "id": "8e89f635",
   "metadata": {},
   "outputs": [],
   "source": [
    "scaler = StandardScaler()"
   ]
  },
  {
   "cell_type": "code",
   "execution_count": 12,
   "id": "47716ff9",
   "metadata": {},
   "outputs": [],
   "source": [
    "bts = bt.set_index('Date',drop=True)\n",
    "ets = et.set_index('Date',drop=True)\n",
    "usds = usd.set_index('Date',drop=True)"
   ]
  },
  {
   "cell_type": "code",
   "execution_count": 13,
   "id": "f71c7010",
   "metadata": {},
   "outputs": [],
   "source": [
    "bitcoin = pd.DataFrame(scaler.fit_transform(bts), columns = bts.columns)\n",
    "ether = pd.DataFrame(scaler.fit_transform(ets), columns = ets.columns)\n",
    "usdc = pd.DataFrame(scaler.fit_transform(usds), columns = usds.columns)"
   ]
  },
  {
   "cell_type": "code",
   "execution_count": 14,
   "id": "54a37804",
   "metadata": {},
   "outputs": [],
   "source": [
    "bitcoin.index = bt['Date']\n",
    "ether.index = bt['Date']\n",
    "usdc.index = bt['Date']"
   ]
  },
  {
   "cell_type": "code",
   "execution_count": 15,
   "id": "08fd64f4",
   "metadata": {},
   "outputs": [],
   "source": [
    "bitcoin.to_csv('data/bitcoin_norm.csv')\n",
    "ether.to_csv('data/ether_norm.csv')\n",
    "usdc.to_csv('data/usdc_norm.csv')"
   ]
  },
  {
   "cell_type": "markdown",
   "id": "8ee7ef38",
   "metadata": {},
   "source": [
    "# News"
   ]
  },
  {
   "cell_type": "code",
   "execution_count": 16,
   "id": "8901370b",
   "metadata": {},
   "outputs": [],
   "source": [
    "news = pd.read_csv(\"data/news_data_all.csv\")"
   ]
  },
  {
   "cell_type": "code",
   "execution_count": 17,
   "id": "1352e81e",
   "metadata": {},
   "outputs": [],
   "source": [
    "news.drop(news[news['Date']=='Date'].index, axis=0, inplace=True)\n",
    "news['Date'] = pd.to_datetime(news['Date'])\n",
    "news = news[news['Date'].between('2021-02-01','2024-04-30')]\n",
    "news = news.sort_values(by='Date', ascending=False)\n",
    "news = news.reset_index(drop=True)"
   ]
  },
  {
   "cell_type": "code",
   "execution_count": 18,
   "id": "3f1ba149",
   "metadata": {},
   "outputs": [],
   "source": [
    "news.to_csv('data/news.csv', index=False)"
   ]
  },
  {
   "cell_type": "code",
   "execution_count": 19,
   "id": "3d657c4f",
   "metadata": {},
   "outputs": [],
   "source": [
    "df = pd.DataFrame()"
   ]
  },
  {
   "cell_type": "code",
   "execution_count": 20,
   "id": "70295ef1",
   "metadata": {},
   "outputs": [],
   "source": [
    "df.index = bt['Date']"
   ]
  },
  {
   "cell_type": "code",
   "execution_count": 21,
   "id": "4e4b4d7f",
   "metadata": {},
   "outputs": [],
   "source": [
    "df['count'] = 0\n",
    "df['score_mean'] = 0\n",
    "df['score_max'] = 0\n",
    "df['score_min'] = 0\n",
    "df['score_pos_std'] = 0\n",
    "df['score_neg_std'] = 0"
   ]
  },
  {
   "cell_type": "code",
   "execution_count": 22,
   "id": "5f48f810",
   "metadata": {},
   "outputs": [],
   "source": [
    "for i in bt['Date']:\n",
    "    array = news.loc[news['Date'] == i]['VaderScore'].to_numpy(dtype='float32')\n",
    "    df['count'][i] = len(array)\n",
    "    if len(array) != 0:\n",
    "        df['score_mean'][i] = array.mean()\n",
    "        df['score_max'][i] = array.max()\n",
    "        df['score_min'][i] = array.min()\n",
    "        df['score_pos_std'][i] = array[array > 0].std()\n",
    "        df['score_neg_std'][i] = array[array < 0].std()"
   ]
  },
  {
   "cell_type": "code",
   "execution_count": 23,
   "id": "546a472e",
   "metadata": {},
   "outputs": [],
   "source": [
    "df = df.fillna(0)"
   ]
  },
  {
   "cell_type": "code",
   "execution_count": 24,
   "id": "f30fe9fe",
   "metadata": {},
   "outputs": [],
   "source": [
    "df.to_csv('data/news_norm.csv',index=True)"
   ]
  }
 ],
 "metadata": {
  "kernelspec": {
   "display_name": "Python 3 (ipykernel)",
   "language": "python",
   "name": "python3"
  },
  "language_info": {
   "codemirror_mode": {
    "name": "ipython",
    "version": 3
   },
   "file_extension": ".py",
   "mimetype": "text/x-python",
   "name": "python",
   "nbconvert_exporter": "python",
   "pygments_lexer": "ipython3",
   "version": "3.9.13"
  }
 },
 "nbformat": 4,
 "nbformat_minor": 5
}
